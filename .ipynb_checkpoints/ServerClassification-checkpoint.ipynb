{
 "cells": [
  {
   "cell_type": "markdown",
   "id": "e81fc326",
   "metadata": {},
   "source": [
    "## Server Classification"
   ]
  },
  {
   "cell_type": "code",
   "execution_count": 9,
   "id": "c708ec13",
   "metadata": {},
   "outputs": [],
   "source": [
    "# Changing the current working directory to specified path\n",
    "\n",
    "\n",
    "# Verifing the path using getcwd()\n"
   ]
  },
  {
   "cell_type": "code",
   "execution_count": 10,
   "id": "db2ce9cd",
   "metadata": {},
   "outputs": [],
   "source": [
    "# Importing the libraries\n"
   ]
  },
  {
   "cell_type": "code",
   "execution_count": 11,
   "id": "f818a0e3",
   "metadata": {},
   "outputs": [],
   "source": [
    "# Loading the dataset\n",
    "\n",
    "\n",
    "# Splitting data into X(features) and Y(label class)\n"
   ]
  },
  {
   "cell_type": "code",
   "execution_count": 12,
   "id": "399892ed",
   "metadata": {},
   "outputs": [],
   "source": [
    "# Splitting data into Train/Test set\n"
   ]
  },
  {
   "cell_type": "code",
   "execution_count": 13,
   "id": "2b7cc9eb",
   "metadata": {},
   "outputs": [],
   "source": [
    "# Model Training\n"
   ]
  },
  {
   "cell_type": "code",
   "execution_count": 14,
   "id": "8dcd02b3",
   "metadata": {},
   "outputs": [],
   "source": [
    "# Model Testing (Predict labels of the unseen Test set data, by using trained model)\n"
   ]
  },
  {
   "cell_type": "code",
   "execution_count": 15,
   "id": "2ff79609",
   "metadata": {},
   "outputs": [],
   "source": [
    "# Making the Confusion Matrix (to evaluate the accuracy of classification model)\n"
   ]
  }
 ],
 "metadata": {
  "kernelspec": {
   "display_name": "Python 3 (ipykernel)",
   "language": "python",
   "name": "python3"
  },
  "language_info": {
   "codemirror_mode": {
    "name": "ipython",
    "version": 3
   },
   "file_extension": ".py",
   "mimetype": "text/x-python",
   "name": "python",
   "nbconvert_exporter": "python",
   "pygments_lexer": "ipython3",
   "version": "3.9.13"
  }
 },
 "nbformat": 4,
 "nbformat_minor": 5
}
